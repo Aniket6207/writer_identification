{
 "cells": [
  {
   "cell_type": "code",
   "execution_count": 16,
   "id": "839c66b1",
   "metadata": {},
   "outputs": [
    {
     "data": {
      "text/plain": [
       "True"
      ]
     },
     "execution_count": 16,
     "metadata": {},
     "output_type": "execute_result"
    }
   ],
   "source": [
    "import cv2\n",
    "\n",
    "# Read the image\n",
    "image = cv2.imread(\"ideal_characters.png\")\n",
    "\n",
    "# Convert image to grayscale\n",
    "gray_image = cv2.cvtColor(image, cv2.COLOR_BGR2GRAY)\n",
    "\n",
    "# Apply thresholding or other preprocessing techniques\n",
    "_, threshold_image = cv2.threshold(gray_image, 0, 255, cv2.THRESH_BINARY_INV | cv2.THRESH_OTSU)\n",
    "\n",
    "# Apply morphological operations to remove small noise\n",
    "kernel = cv2.getStructuringElement(cv2.MORPH_RECT, (3, 3))\n",
    "threshold_image = cv2.morphologyEx(threshold_image, cv2.MORPH_OPEN, kernel)\n",
    "\n",
    "# Detect lines above the words\n",
    "lines = cv2.HoughLinesP(threshold_image, 1, 3.14/180, threshold=100, minLineLength=100, maxLineGap=5)\n",
    "\n",
    "# Remove detected lines\n",
    "if lines is not None:\n",
    "    for line in lines:\n",
    "        x1, y1, x2, y2 = line[0]\n",
    "        cv2.line(image, (x1, y1), (x2, y2), (255,255,255), 2)  # Draw over the line with white color\n",
    "\n",
    "# Now you can proceed with word separation or any other processing\n",
    "\n",
    "# Save the image with removed lines\n",
    "cv2.imwrite(\"ans.jpeg\", image)\n"
   ]
  },
  {
   "cell_type": "code",
   "execution_count": 17,
   "id": "497ee767",
   "metadata": {},
   "outputs": [],
   "source": [
    "import os\n",
    "for file in os.listdir('words/'):\n",
    "    os.remove(f'words/{file}')"
   ]
  },
  {
   "cell_type": "code",
   "execution_count": 18,
   "id": "17dd9aed",
   "metadata": {},
   "outputs": [],
   "source": [
    "\n",
    "import cv2\n",
    "\n",
    "# Load the image\n",
    "image = cv2.imread(\"ans.jpeg\")\n",
    "\n",
    "# Convert the image to grayscale\n",
    "gray = cv2.cvtColor(image, cv2.COLOR_BGR2GRAY)\n",
    "\n",
    "# Apply thresholding to obtain binary image\n",
    "_, binary = cv2.threshold(gray, 0, 255, cv2.THRESH_BINARY_INV + cv2.THRESH_OTSU)\n",
    "\n",
    "\n",
    "# Find contours\n",
    "contours, _ = cv2.findContours(binary, cv2.RETR_EXTERNAL, cv2.CHAIN_APPROX_SIMPLE)\n",
    "\n",
    "# Function to sort contours from left to right\n",
    "def sort_contours(cnts, method=\"left-to-right\"):\n",
    "    reverse = False\n",
    "    i = 0\n",
    "    if method == \"right-to-left\" or method == \"bottom-to-top\":\n",
    "        reverse = True\n",
    "    if method == \"top-to-bottom\" or method == \"bottom-to-top\":\n",
    "        i = 1\n",
    "    bounding_boxes = [cv2.boundingRect(c) for c in cnts]\n",
    "    (cnts, bounding_boxes) = zip(*sorted(zip(cnts, bounding_boxes),\n",
    "                                         key=lambda b: b[1][i], reverse=reverse))\n",
    "    return cnts\n",
    "\n",
    "# Sort contours from left to right\n",
    "contours = sort_contours(contours)\n",
    "\n",
    "# Iterate through contours\n",
    "for i, c in enumerate(contours):\n",
    "    # Get bounding box coordinates\n",
    "    x, y, w, h = cv2.boundingRect(c)\n",
    "\n",
    "    # Crop the word region\n",
    "    word_region = image[y:y+h, x:x+w]\n",
    "\n",
    "    # Save the word region as an image\n",
    "    cv2.imwrite(f'words/word_{i}.png', word_region)\n",
    "\n",
    "# Display the word images (optional)\n",
    "# for i in range(len(contours)):\n",
    "#     cv2.imshow('Word', cv2.imread(f'word_{i}.png'))\n",
    "#     cv2.waitKey(0)\n",
    "#     cv2.destroyAllWindows()\n"
   ]
  },
  {
   "cell_type": "code",
   "execution_count": 19,
   "id": "efccddf6",
   "metadata": {},
   "outputs": [],
   "source": [
    "import os\n",
    "for file in os.listdir('characters2/'):\n",
    "    try:\n",
    "        os.remove(f'characters2/{file}')\n",
    "    except:\n",
    "        pass\n",
    "        "
   ]
  },
  {
   "cell_type": "code",
   "execution_count": null,
   "id": "7b884a57",
   "metadata": {},
   "outputs": [],
   "source": []
  },
  {
   "cell_type": "code",
   "execution_count": 20,
   "id": "f4b2aa5f",
   "metadata": {},
   "outputs": [],
   "source": [
    "cnt=0\n",
    "import cv2\n",
    "\n",
    "for file in os.listdir('words/'):\n",
    "    # Load the image\n",
    "    image = cv2.imread(\"ideal_characters.png\")\n",
    "\n",
    "    # Convert image to grayscale\n",
    "    gray_image = cv2.cvtColor(image, cv2.COLOR_BGR2GRAY)\n",
    "\n",
    "    # Apply thresholding or other preprocessing techniques\n",
    "    _, threshold_image = cv2.threshold(gray_image, 0, 255, cv2.THRESH_BINARY_INV | cv2.THRESH_OTSU)\n",
    "\n",
    "    # Apply morphological operations to remove small noise\n",
    "    kernel = cv2.getStructuringElement(cv2.MORPH_RECT, (3, 3))\n",
    "    threshold_image = cv2.morphologyEx(threshold_image, cv2.MORPH_OPEN, kernel)\n",
    "\n",
    "    # Detect lines above the words\n",
    "    lines = cv2.HoughLinesP(threshold_image, 1, 3.14/180, threshold=100, minLineLength=100, maxLineGap=5)\n",
    "\n",
    "    # Remove detected lines\n",
    "    if lines is not None:\n",
    "        for line in lines:\n",
    "            x1, y1, x2, y2 = line[0]\n",
    "            cv2.line(image, (x1, y1), (x2, y2), (255,255,255), 2)  # Draw over the line with white color\n",
    "            \n",
    "    cv2.imwrite(\"ans.jpeg\", image)\n",
    "    \n",
    "    image = cv2.imread(\"ans.jpeg\")\n",
    "\n",
    "    # Convert the image to grayscale\n",
    "    gray = cv2.cvtColor(image, cv2.COLOR_BGR2GRAY)\n",
    "\n",
    "    # Apply thresholding to obtain binary image\n",
    "    _, binary = cv2.threshold(gray, 0, 255, cv2.THRESH_BINARY_INV + cv2.THRESH_OTSU)\n",
    "\n",
    "\n",
    "    # Find contours\n",
    "    contours, _ = cv2.findContours(binary, cv2.RETR_EXTERNAL, cv2.CHAIN_APPROX_SIMPLE)\n",
    "\n",
    "    # Function to sort contours from left to right\n",
    "    def sort_contours(cnts, method=\"left-to-right\"):\n",
    "        reverse = False\n",
    "        i = 0\n",
    "        if method == \"right-to-left\" or method == \"bottom-to-top\":\n",
    "            reverse = True\n",
    "        if method == \"top-to-bottom\" or method == \"bottom-to-top\":\n",
    "            i = 1\n",
    "        bounding_boxes = [cv2.boundingRect(c) for c in cnts]\n",
    "        (cnts, bounding_boxes) = zip(*sorted(zip(cnts, bounding_boxes),\n",
    "                                             key=lambda b: b[1][i], reverse=reverse))\n",
    "        return cnts\n",
    "\n",
    "    # Sort contours from left to right\n",
    "    contours = sort_contours(contours)\n",
    "\n",
    "    # Iterate through contours\n",
    "    for i, c in enumerate(contours):\n",
    "        # Get bounding box coordinates\n",
    "        x, y, w, h = cv2.boundingRect(c)\n",
    "\n",
    "        # Crop the word region\n",
    "        word_region = image[y:y+h, x:x+w]\n",
    "\n",
    "        # Save the word region as an image\n",
    "        cv2.imwrite(f'characters2/char_{cnt}.png', word_region)\n",
    "        cnt=cnt+1\n",
    "    \n",
    "    if (cnt>=400):\n",
    "        break\n",
    "\n",
    "    # Display the word images (optional)\n",
    "    # for i in range(len(contours)):\n",
    "    #     cv2.imshow('Word', cv2.imread(f'word_{i}.png'))\n",
    "    #     cv2.waitKey(0)\n",
    "    #     cv2.destroyAllWindows()\n"
   ]
  },
  {
   "cell_type": "code",
   "execution_count": 21,
   "id": "68247b24",
   "metadata": {},
   "outputs": [],
   "source": [
    "import os\n",
    "from PIL import Image \n",
    "l=[]\n",
    "for file in os.listdir('characters2/'):\n",
    "    img = Image.open(f'characters2/{file}') \n",
    "\n",
    "    # get width and height \n",
    "    width = img.width \n",
    "    height = img.height \n",
    "    \n",
    "    area=width*height\n",
    "    if (area>=2000 and area<=3000):\n",
    "        l.append(file)\n",
    "    img.close()\n",
    "        \n",
    "  "
   ]
  },
  {
   "cell_type": "code",
   "execution_count": 22,
   "id": "615857c6",
   "metadata": {},
   "outputs": [
    {
     "data": {
      "text/plain": [
       "['char_116.png',\n",
       " 'char_16.png',\n",
       " 'char_162.png',\n",
       " 'char_17.png',\n",
       " 'char_173.png',\n",
       " 'char_174.png',\n",
       " 'char_176.png',\n",
       " 'char_188.png',\n",
       " 'char_189.png',\n",
       " 'char_19.png',\n",
       " 'char_201.png',\n",
       " 'char_205.png',\n",
       " 'char_220.png',\n",
       " 'char_221.png',\n",
       " 'char_243.png',\n",
       " 'char_254.png',\n",
       " 'char_255.png',\n",
       " 'char_273.png',\n",
       " 'char_31.png',\n",
       " 'char_319.png',\n",
       " 'char_32.png',\n",
       " 'char_330.png',\n",
       " 'char_331.png',\n",
       " 'char_333.png',\n",
       " 'char_345.png',\n",
       " 'char_346.png',\n",
       " 'char_358.png',\n",
       " 'char_362.png',\n",
       " 'char_377.png',\n",
       " 'char_378.png',\n",
       " 'char_400.png',\n",
       " 'char_411.png',\n",
       " 'char_412.png',\n",
       " 'char_430.png',\n",
       " 'char_44.png',\n",
       " 'char_48.png',\n",
       " 'char_5.png',\n",
       " 'char_63.png',\n",
       " 'char_64.png',\n",
       " 'char_86.png',\n",
       " 'char_97.png',\n",
       " 'char_98.png']"
      ]
     },
     "execution_count": 22,
     "metadata": {},
     "output_type": "execute_result"
    }
   ],
   "source": [
    "l"
   ]
  },
  {
   "cell_type": "code",
   "execution_count": 24,
   "id": "a165321f",
   "metadata": {},
   "outputs": [],
   "source": [
    "import os\n",
    "import shutil\n",
    "import subprocess\n",
    "for i in l:\n",
    "    shutil.copyfile(f'characters/{i}', f'final_char/{i}')"
   ]
  },
  {
   "cell_type": "code",
   "execution_count": 25,
   "id": "b800b158",
   "metadata": {},
   "outputs": [
    {
     "data": {
      "text/plain": [
       "['char_116.png',\n",
       " 'char_16.png',\n",
       " 'char_162.png',\n",
       " 'char_17.png',\n",
       " 'char_173.png',\n",
       " 'char_174.png',\n",
       " 'char_176.png',\n",
       " 'char_188.png',\n",
       " 'char_189.png',\n",
       " 'char_19.png',\n",
       " 'char_201.png',\n",
       " 'char_205.png',\n",
       " 'char_220.png',\n",
       " 'char_221.png',\n",
       " 'char_243.png',\n",
       " 'char_254.png',\n",
       " 'char_255.png',\n",
       " 'char_273.png',\n",
       " 'char_31.png',\n",
       " 'char_319.png',\n",
       " 'char_32.png',\n",
       " 'char_330.png',\n",
       " 'char_331.png',\n",
       " 'char_333.png',\n",
       " 'char_345.png',\n",
       " 'char_346.png',\n",
       " 'char_358.png',\n",
       " 'char_362.png',\n",
       " 'char_377.png',\n",
       " 'char_378.png',\n",
       " 'char_400.png',\n",
       " 'char_411.png',\n",
       " 'char_412.png',\n",
       " 'char_430.png',\n",
       " 'char_44.png',\n",
       " 'char_48.png',\n",
       " 'char_5.png',\n",
       " 'char_63.png',\n",
       " 'char_64.png',\n",
       " 'char_86.png',\n",
       " 'char_97.png',\n",
       " 'char_98.png']"
      ]
     },
     "execution_count": 25,
     "metadata": {},
     "output_type": "execute_result"
    }
   ],
   "source": [
    "l"
   ]
  },
  {
   "cell_type": "code",
   "execution_count": 26,
   "id": "bccb9b1c",
   "metadata": {},
   "outputs": [
    {
     "data": {
      "text/plain": [
       "42"
      ]
     },
     "execution_count": 26,
     "metadata": {},
     "output_type": "execute_result"
    }
   ],
   "source": [
    "len(l)"
   ]
  },
  {
   "cell_type": "code",
   "execution_count": null,
   "id": "fadc4043",
   "metadata": {},
   "outputs": [],
   "source": []
  }
 ],
 "metadata": {
  "kernelspec": {
   "display_name": "Python 3 (ipykernel)",
   "language": "python",
   "name": "python3"
  },
  "language_info": {
   "codemirror_mode": {
    "name": "ipython",
    "version": 3
   },
   "file_extension": ".py",
   "mimetype": "text/x-python",
   "name": "python",
   "nbconvert_exporter": "python",
   "pygments_lexer": "ipython3",
   "version": "3.10.1"
  }
 },
 "nbformat": 4,
 "nbformat_minor": 5
}
