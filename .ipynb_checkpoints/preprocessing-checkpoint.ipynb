{
 "cells": [
  {
   "cell_type": "code",
   "execution_count": 6,
   "id": "123273b9",
   "metadata": {},
   "outputs": [],
   "source": [
    "import cv2\n",
    "import PIL\n",
    "from PIL import Image"
   ]
  },
  {
   "cell_type": "code",
   "execution_count": 7,
   "id": "f5975f67",
   "metadata": {},
   "outputs": [],
   "source": [
    "curr=cv2.imread(\"test.jpg\")"
   ]
  },
  {
   "cell_type": "code",
   "execution_count": 22,
   "id": "4353c1e2",
   "metadata": {},
   "outputs": [],
   "source": [
    "import cv2\n",
    "  \n",
    "originalImage = cv2.imread('test2.jpg')\n",
    "od=originalImage\n",
    "grayImage = cv2.cvtColor(od, cv2.COLOR_BGR2GRAY)\n",
    "  \n",
    "(thresh, blackAndWhiteImage) = cv2.threshold(grayImage, 127, 255, cv2.THRESH_BINARY)\n",
    " \n",
    "cv2.imshow('Black white image', blackAndWhiteImage)\n",
    "# cv2.imshow('Original image',od)\n",
    "# cv2.imshow('Gray image', grayImage)\n",
    "  \n",
    "cv2.waitKey(0)\n",
    "cv2.destroyAllWindows()"
   ]
  },
  {
   "cell_type": "code",
   "execution_count": 14,
   "id": "f9ca1bc3",
   "metadata": {},
   "outputs": [
    {
     "data": {
      "text/plain": [
       "(142, 919)"
      ]
     },
     "execution_count": 14,
     "metadata": {},
     "output_type": "execute_result"
    }
   ],
   "source": [
    "blackAndWhiteImage.shape"
   ]
  },
  {
   "cell_type": "code",
   "execution_count": 15,
   "id": "8608a9b2",
   "metadata": {},
   "outputs": [
    {
     "name": "stdout",
     "output_type": "stream",
     "text": [
      "[0, 0, 0, 0, 0, 0, 0, 0, 0, 0, 0, 0, 0, 0, 0, 0, 0, 0, 0, 0, 0, 0, 0, 0, 0, 0, 0, 0, 0, 0, 0, 0, 0, 0, 0, 0, 0, 0, 0, 0, 0, 0, 0, 0, 0, 0, 0, 0, 0, 0, 0, 0, 0, 0, 0, 0, 0, 0, 0, 0, 0, 0, 0, 0, 0, 0, 0, 0, 0, 0, 0, 0, 0, 0, 0, 0, 0, 0, 0, 0, 0, 0, 0, 0, 0, 0, 0, 0, 0, 0, 0, 0, 0, 0, 0, 0, 0, 0, 0, 0, 0, 0, 0, 0, 0, 0, 0, 0, 0, 0, 0, 0, 0, 0, 0, 0, 0, 0, 0, 0, 0, 0, 0, 0, 0, 0, 0, 0, 0, 0, 0, 0, 0, 0, 0, 0, 0, 0, 0, 0, 0, 0, 0, 0, 0, 0, 0, 0, 0, 0, 0, 0, 0, 0, 0, 0, 0, 0, 0, 0, 0, 0, 0, 0, 0, 0, 0, 0, 0, 0, 0, 0, 0, 0, 0, 0, 0, 0, 0, 0, 0, 0, 0, 0, 0, 0, 0, 0, 0, 0, 0, 0, 0, 0, 0, 0, 0, 0, 0, 0, 0, 0, 0, 0, 0, 0, 0, 0, 0, 0, 0, 0, 0, 0, 0, 0, 0, 0, 0, 0, 0, 0, 0, 0, 0, 0, 0, 0, 0, 0, 0, 0, 0, 0, 0, 0, 0, 0, 0, 0, 0, 0, 0, 0, 0, 0, 0, 0, 0, 0, 0, 0, 0, 0, 0, 0, 0, 0, 0, 0, 0, 0, 0, 0, 0, 0, 0, 0, 0, 0, 0, 0, 0, 0, 0, 0, 0, 0, 0, 0, 0, 0, 0, 0, 0, 0, 0, 0, 0, 0, 0, 0, 0, 0, 0, 0, 0, 0, 0, 0, 0, 0, 0, 0, 0, 0, 0, 0, 0, 0, 0, 0, 0, 0, 0, 0, 0, 0, 0, 0, 0, 0, 0, 0, 0, 0, 0, 0, 0, 0, 0, 0, 0, 0, 0, 0, 0, 0, 0, 0, 0, 0, 0, 0, 0, 0, 0, 0, 0, 0, 0, 0, 0, 0, 0, 0, 0, 0, 0, 0, 0, 0, 0, 0, 0, 0, 0, 0, 0, 0, 0, 0, 0, 0, 0, 0, 0, 0, 0, 0, 0, 0, 0, 0, 0, 0, 0, 0, 0, 0, 0, 0, 0, 0, 0, 0, 0, 0, 0, 0, 0, 0, 0, 0, 0, 0, 0, 0, 0, 0, 0, 0, 0, 0, 0, 0, 0, 0, 0, 0, 0, 0, 0, 0, 0, 0, 0, 0, 0, 0, 0, 0, 0, 0, 0, 0, 0, 0, 0, 0, 0, 0, 0, 0, 0, 0, 0, 0, 0, 0, 0, 0, 0, 0, 0, 0, 0, 0, 0, 0, 0, 0, 0, 0, 0, 0, 0, 0, 0, 0, 0, 0, 0, 0, 0, 0, 0, 0, 0, 0, 0, 0, 0, 0, 0, 0, 0, 0, 0, 0, 0, 0, 0, 0, 0, 0, 0, 0, 0, 0, 0, 0, 0, 0, 0, 0, 0, 0, 0, 0, 0, 0, 0, 0, 0, 0, 0, 0, 0, 0, 0, 0, 0, 0, 0, 0, 0, 0, 0, 0, 0, 0, 0, 0, 0, 0, 0, 0, 0, 0, 0, 0, 0, 0, 0, 0, 0, 0, 0, 0, 0, 0, 0, 0, 0, 0, 0, 0, 0, 0, 0, 0, 0, 0, 0, 0, 0, 0, 0, 0, 0, 0, 0, 0, 0, 0, 0, 0, 0, 0, 0, 0, 0, 0, 0, 0, 0, 0, 0, 0, 0, 0, 0, 0, 0, 0, 0, 0, 0, 0, 0, 0, 0, 0, 0, 0, 0, 0, 0, 0, 0, 0, 0, 0, 0, 0, 0, 0, 0, 0, 0, 0, 0, 0, 0, 0, 0, 0, 0, 0, 0, 0, 0, 0, 0, 0, 0, 0, 0, 0, 0, 0, 0, 0, 0, 0, 0, 0, 0, 0, 0, 0, 0, 0, 0, 0, 0, 0, 0, 0, 0, 0, 0, 0, 0, 0, 0, 0, 0, 0, 0, 0, 0, 0, 0, 0, 0, 0, 0, 0, 0, 0, 0, 0, 0, 0, 0, 0, 0, 0, 0, 0, 0, 0, 0, 0, 0, 0, 0, 0, 0, 0, 0, 0, 0, 0, 0, 0, 0, 0, 0, 0, 0, 0, 0, 0, 0, 0, 0, 0, 0, 0, 0, 0, 0, 0, 0, 0, 0, 0, 0, 0, 0, 0, 0, 0, 0, 0, 0, 0, 0, 0, 0, 0, 0, 0, 0, 0, 0, 0, 0, 0, 0, 0, 0, 0, 0, 0, 0, 0, 0, 0, 0, 0, 0, 0, 0, 0, 0, 0, 0, 0, 0, 0, 0, 0, 0, 0, 0, 0, 0, 0, 0, 0, 0, 0, 0, 0, 0, 0, 0, 0, 0, 0, 0, 0, 0, 0, 0, 0, 0, 0, 0, 0, 0, 0, 0, 0, 0, 0, 0, 0, 0, 0, 0, 0, 0, 0, 0, 0, 0, 0, 0, 0, 0, 0, 0, 0, 0, 0, 0, 0, 0, 0, 0, 0, 0, 0, 0, 0, 0, 0, 0, 0, 0, 0, 0, 0, 0, 0, 0, 0, 0, 0, 0, 0, 0, 0, 0, 0, 0, 0, 0, 0, 0, 0, 0, 0, 0, 0, 0, 0, 0, 0, 0, 0, 0, 0, 0, 0, 0, 0, 0, 0, 0, 0, 0, 0, 0, 0, 0, 0, 0, 0, 0, 0, 0, 0, 0, 0, 0, 0, 0, 0, 0, 0, 0, 0, 0, 0, 0, 0, 0, 0, 0, 0, 0, 0, 0]\n"
     ]
    }
   ],
   "source": [
    "l=919*[0]\n",
    "print(l)"
   ]
  },
  {
   "cell_type": "code",
   "execution_count": 16,
   "id": "72110fd2",
   "metadata": {},
   "outputs": [],
   "source": [
    "for c in blackAndWhiteImage:\n",
    "    for i in range(0,919):\n",
    "        if (c[i]==0):\n",
    "            l[i]=l[i]+1"
   ]
  },
  {
   "cell_type": "code",
   "execution_count": 18,
   "id": "ad51852b",
   "metadata": {},
   "outputs": [
    {
     "data": {
      "image/png": "[encoded data removed]",
      "text/plain": [
       "<Figure size 432x288 with 1 Axes>"
      ]
     },
     "metadata": {
      "needs_background": "light"
     },
     "output_type": "display_data"
    }
   ],
   "source": [
    "from matplotlib import pyplot as plt\n",
    "plt.hist(l,bins=919,edgecolor='black')\n",
    "plt.xlabel('x')\n",
    "plt.ylabel('y')\n",
    "plt.show()"
   ]
  },
  {
   "cell_type": "code",
   "execution_count": 21,
   "id": "230c52bb",
   "metadata": {},
   "outputs": [
    {
     "name": "stdout",
     "output_type": "stream",
     "text": [
      "[3, 3, 3, 3, 3, 3, 3, 3, 3, 3, 3, 3, 3, 3, 3, 4, 4, 4, 4, 3, 3, 3, 3, 3, 3, 3, 5, 8, 11, 11, 12, 12, 13, 14, 14, 14, 15, 13, 12, 11, 12, 14, 15, 17, 19, 22, 23, 25, 25, 26, 26, 27, 27, 26, 29, 31, 29, 26, 33, 35, 36, 35, 35, 37, 36, 37, 37, 37, 36, 38, 37, 37, 38, 39, 38, 40, 42, 43, 44, 44, 43, 46, 47, 45, 46, 44, 45, 47, 54, 51, 47, 45, 41, 39, 37, 36, 24, 23, 22, 23, 23, 22, 22, 23, 22, 22, 22, 22, 22, 21, 22, 21, 21, 22, 21, 20, 20, 20, 20, 20, 21, 21, 22, 23, 23, 23, 22, 22, 23, 25, 27, 29, 45, 60, 71, 73, 76, 78, 79, 78, 78, 78, 65, 25, 14, 14, 14, 14, 14, 14, 14, 14, 14, 14, 13, 13, 12, 13, 13, 13, 13, 13, 12, 19, 23, 27, 29, 30, 32, 34, 35, 37, 33, 28, 25, 21, 21, 22, 23, 25, 24, 25, 26, 25, 26, 26, 25, 28, 31, 33, 31, 32, 31, 32, 32, 32, 31, 28, 30, 30, 29, 28, 28, 28, 30, 32, 33, 37, 40, 47, 52, 52, 52, 54, 54, 54, 52, 49, 38, 38, 42, 45, 44, 43, 40, 39, 37, 35, 27, 17, 16, 16, 17, 17, 17, 16, 16, 16, 17, 16, 17, 15, 16, 16, 16, 17, 18, 18, 19, 21, 24, 29, 35, 43, 43, 44, 52, 61, 68, 70, 72, 66, 62, 58, 52, 32, 14, 10, 10, 10, 10, 10, 10, 10, 9, 9, 9, 9, 9, 9, 10, 10, 10, 10, 10, 10, 10, 10, 10, 10, 10, 11, 12, 14, 17, 30, 37, 74, 75, 75, 75, 75, 75, 69, 60, 51, 11, 11, 12, 12, 12, 12, 12, 12, 12, 12, 12, 11, 12, 12, 12, 12, 12, 12, 14, 25, 30, 32, 35, 37, 40, 41, 43, 44, 45, 45, 42, 40, 36, 37, 36, 37, 36, 42, 45, 45, 46, 46, 45, 45, 45, 46, 47, 47, 48, 49, 49, 47, 44, 46, 46, 45, 47, 46, 45, 45, 49, 48, 46, 46, 45, 44, 44, 43, 43, 43, 45, 45, 50, 56, 61, 61, 60, 60, 58, 54, 47, 40, 33, 27, 27, 27, 26, 24, 23, 23, 21, 20, 18, 16, 15, 15, 15, 15, 16, 16, 16, 16, 17, 17, 17, 17, 17, 23, 29, 32, 35, 37, 39, 40, 41, 39, 36, 35, 34, 33, 33, 33, 32, 31, 31, 31, 32, 29, 29, 28, 26, 25, 23, 23, 24, 23, 22, 21, 21, 21, 22, 22, 22, 21, 23, 24, 23, 24, 25, 26, 28, 30, 35, 38, 40, 42, 46, 52, 57, 59, 62, 68, 72, 68, 65, 62, 60, 59, 57, 53, 44, 27, 27, 26, 27, 27, 28, 28, 27, 27, 27, 26, 26, 26, 26, 27, 26, 27, 28, 29, 28, 28, 29, 30, 29, 29, 31, 32, 33, 36, 39, 48, 52, 51, 49, 46, 42, 38, 32, 20, 11, 11, 12, 12, 12, 12, 12, 13, 13, 13, 13, 13, 13, 13, 13, 13, 13, 12, 12, 13, 13, 13, 13, 13, 19, 26, 29, 33, 34, 36, 40, 41, 42, 44, 45, 40, 39, 38, 39, 37, 39, 38, 39, 39, 39, 39, 38, 38, 37, 36, 35, 35, 36, 37, 39, 42, 47, 47, 48, 51, 54, 70, 73, 70, 64, 62, 59, 56, 48, 25, 24, 23, 23, 23, 23, 23, 23, 22, 22, 22, 22, 23, 23, 23, 23, 23, 26, 30, 34, 40, 45, 46, 49, 50, 59, 70, 73, 73, 74, 74, 68, 62, 45, 37, 19, 16, 16, 16, 16, 16, 16, 16, 16, 16, 15, 16, 16, 16, 16, 16, 16, 30, 34, 40, 43, 45, 47, 45, 36, 31, 30, 27, 26, 26, 27, 27, 25, 27, 27, 27, 27, 27, 28, 30, 30, 30, 32, 32, 32, 32, 33, 33, 39, 42, 45, 45, 48, 45, 41, 41, 40, 39, 38, 38, 35, 33, 31, 23, 22, 22, 22, 21, 21, 20, 20, 20, 20, 22, 28, 31, 34, 38, 43, 46, 47, 50, 51, 53, 58, 62, 67, 71, 69, 66, 63, 55, 51, 48, 44, 31, 24, 18, 18, 18, 18, 18, 19, 19, 19, 19, 19, 18, 18, 12, 11, 10, 10, 9, 10, 10, 10, 10, 10, 10, 10, 10, 10, 10, 10, 19, 25, 29, 32, 34, 35, 39, 45, 45, 47, 47, 43, 40, 41, 38, 39, 37, 37, 35, 33, 32, 32, 32, 31, 32, 30, 31, 33, 30, 31, 32, 33, 33, 31, 29, 29, 28, 29, 30, 31, 33, 35, 40, 51, 54, 52, 49, 49, 47, 39, 29, 22, 22, 21, 22, 21, 22, 21, 21, 21, 21, 20, 20, 19, 18, 15, 10, 10, 11, 11, 11, 12, 13, 15, 19, 25, 31, 33, 35, 37, 38, 35, 28, 24, 21, 20, 19, 19, 18, 18, 18, 18, 18, 18, 17, 18, 17, 18, 18, 19, 19, 19, 18, 19, 19, 19, 20, 23, 28, 46, 58, 62, 64, 64, 65, 55, 43, 29, 21, 20, 19, 19, 19, 20, 20, 19, 19, 18, 18, 17, 15, 14, 14, 13, 13, 13, 12, 12, 11, 11, 10, 10, 11, 11, 11, 12, 14, 16, 19, 23, 32, 35, 37, 34, 32, 30, 25, 16, 11, 3, 3, 3, 3, 3, 3, 3, 3, 3, 3, 3, 3, 4, 4, 4]\n"
     ]
    }
   ],
   "source": [
    "print(l)"
   ]
  },
  {
   "cell_type": "code",
   "execution_count": null,
   "id": "eecc37a2",
   "metadata": {},
   "outputs": [],
   "source": []
  }
 ],
 "metadata": {
  "kernelspec": {
   "display_name": "Python 3 (ipykernel)",
   "language": "python",
   "name": "python3"
  },
  "language_info": {
   "codemirror_mode": {
    "name": "ipython",
    "version": 3
   },
   "file_extension": ".py",
   "mimetype": "text/x-python",
   "name": "python",
   "nbconvert_exporter": "python",
   "pygments_lexer": "ipython3",
   "version": "3.10.1"
  }
 },
 "nbformat": 4,
 "nbformat_minor": 5
}
