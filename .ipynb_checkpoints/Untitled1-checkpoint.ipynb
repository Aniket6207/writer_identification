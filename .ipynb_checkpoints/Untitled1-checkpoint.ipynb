{
 "cells": [
  {
   "cell_type": "code",
   "execution_count": 1,
   "id": "7f47c8b0",
   "metadata": {},
   "outputs": [
    {
     "data": {
      "text/plain": [
       "True"
      ]
     },
     "execution_count": 1,
     "metadata": {},
     "output_type": "execute_result"
    }
   ],
   "source": [
    "import cv2\n",
    "\n",
    "image = cv2.imread(\"test3.jpg\")\n",
    "\n",
    "\n",
    "gray_image = cv2.cvtColor(image, cv2.COLOR_BGR2GRAY)\n",
    "\n",
    "# Apply thresholding or other preprocessing techniques\n",
    "_, threshold_image = cv2.threshold(gray_image, 0, 255, cv2.THRESH_BINARY_INV | cv2.THRESH_OTSU)\n",
    "\n",
    "# Apply morphological operations to remove small noise\n",
    "kernel = cv2.getStructuringElement(cv2.MORPH_RECT, (3, 3))\n",
    "threshold_image = cv2.morphologyEx(threshold_image, cv2.MORPH_OPEN, kernel)\n",
    "\n",
    "# Detect lines above the words\n",
    "lines = cv2.HoughLinesP(threshold_image, 1, 3.14/180, threshold=100, minLineLength=100, maxLineGap=5)\n",
    "\n",
    "# Remove detected lines\n",
    "if lines is not None:\n",
    "    for line in lines:\n",
    "        x1, y1, x2, y2 = line[0]\n",
    "        cv2.line(image, (x1, y1), (x2, y2), (255,255,255), 2)  # Draw over the line with white color\n",
    "\n",
    "\n",
    "cv2.imwrite(\"ans2.jpeg\", image)\n"
   ]
  },
  {
   "cell_type": "code",
   "execution_count": 2,
   "id": "e1c4bc69",
   "metadata": {},
   "outputs": [],
   "source": [
    "\n",
    "import cv2\n",
    "\n",
    "# Load the image\n",
    "image = cv2.imread(\"ans2.jpeg\")\n",
    "\n",
    "# Convert the image to grayscale\n",
    "gray = cv2.cvtColor(image, cv2.COLOR_BGR2GRAY)\n",
    "\n",
    "# Apply thresholding to obtain binary image\n",
    "_, binary = cv2.threshold(gray, 0, 255, cv2.THRESH_BINARY_INV + cv2.THRESH_OTSU)\n",
    "\n",
    "\n",
    "\n",
    "contours, _ = cv2.findContours(binary, cv2.RETR_EXTERNAL, cv2.CHAIN_APPROX_SIMPLE)\n",
    "\n",
    "def sort_contours(cnts, method=\"left-to-right\"):\n",
    "    reverse = False\n",
    "    i = 0\n",
    "    if method == \"right-to-left\" or method == \"bottom-to-top\":\n",
    "        reverse = True\n",
    "    if method == \"top-to-bottom\" or method == \"bottom-to-top\":\n",
    "        i = 1\n",
    "    bounding_boxes = [cv2.boundingRect(c) for c in cnts]\n",
    "    (cnts, bounding_boxes) = zip(*sorted(zip(cnts, bounding_boxes),\n",
    "                                         key=lambda b: b[1][i], reverse=reverse))\n",
    "    return cnts\n",
    "\n",
    "contours = sort_contours(contours)\n",
    "\n",
    "# Iterate through contours\n",
    "for i, c in enumerate(contours):\n",
    "    x, y, w, h = cv2.boundingRect(c)\n",
    "    word_region = image[y:y+h, x:x+w]\n",
    "    cv2.imwrite(f'words2/word_{i}.png', word_region)\n",
    "\n",
    "# Display the word images (optional)\n",
    "# for i in range(len(contours)):\n",
    "#     cv2.imshow('Word', cv2.imread(f'word_{i}.png'))\n",
    "#     cv2.waitKey(0)\n",
    "#     cv2.destroyAllWindows()\n"
   ]
  },
  {
   "cell_type": "code",
   "execution_count": 3,
   "id": "42c8d782",
   "metadata": {},
   "outputs": [],
   "source": [
    "import os\n",
    "from PIL import Image \n",
    "l=[]\n",
    "for file in os.listdir('words2/'):\n",
    "    img = Image.open(f'words2/{file}') \n",
    "\n",
    "    # get width and height \n",
    "    width = img.width \n",
    "    height = img.height \n",
    "    \n",
    "    \n",
    "    if (width<90 and height<90):\n",
    "        l.append(file)\n",
    "        \n",
    "  "
   ]
  },
  {
   "cell_type": "code",
   "execution_count": 4,
   "id": "4d692667",
   "metadata": {},
   "outputs": [
    {
     "ename": "PermissionError",
     "evalue": "[WinError 32] The process cannot access the file because it is being used by another process: 'words2/word_9.png'",
     "output_type": "error",
     "traceback": [
      "\u001b[1;31m---------------------------------------------------------------------------\u001b[0m",
      "\u001b[1;31mPermissionError\u001b[0m                           Traceback (most recent call last)",
      "\u001b[1;32m~\\AppData\\Local\\Temp/ipykernel_10956/3472492073.py\u001b[0m in \u001b[0;36m<module>\u001b[1;34m\u001b[0m\n\u001b[0;32m      1\u001b[0m \u001b[1;32mfor\u001b[0m \u001b[0mfile\u001b[0m \u001b[1;32min\u001b[0m \u001b[0ml\u001b[0m\u001b[1;33m:\u001b[0m\u001b[1;33m\u001b[0m\u001b[1;33m\u001b[0m\u001b[0m\n\u001b[1;32m----> 2\u001b[1;33m     \u001b[0mos\u001b[0m\u001b[1;33m.\u001b[0m\u001b[0mremove\u001b[0m\u001b[1;33m(\u001b[0m\u001b[1;34mf'words2/{file}'\u001b[0m\u001b[1;33m)\u001b[0m\u001b[1;33m\u001b[0m\u001b[1;33m\u001b[0m\u001b[0m\n\u001b[0m",
      "\u001b[1;31mPermissionError\u001b[0m: [WinError 32] The process cannot access the file because it is being used by another process: 'words2/word_9.png'"
     ]
    }
   ],
   "source": [
    "for file in l:\n",
    "    os.remove(f'words2/{file}')"
   ]
  },
  {
   "cell_type": "code",
   "execution_count": null,
   "id": "36102a18",
   "metadata": {},
   "outputs": [],
   "source": []
  }
 ],
 "metadata": {
  "kernelspec": {
   "display_name": "Python 3 (ipykernel)",
   "language": "python",
   "name": "python3"
  },
  "language_info": {
   "codemirror_mode": {
    "name": "ipython",
    "version": 3
   },
   "file_extension": ".py",
   "mimetype": "text/x-python",
   "name": "python",
   "nbconvert_exporter": "python",
   "pygments_lexer": "ipython3",
   "version": "3.10.1"
  }
 },
 "nbformat": 4,
 "nbformat_minor": 5
}
